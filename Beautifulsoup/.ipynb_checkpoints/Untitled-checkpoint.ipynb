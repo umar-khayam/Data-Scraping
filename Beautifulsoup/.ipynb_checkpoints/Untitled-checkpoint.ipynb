{
 "cells": [
  {
   "cell_type": "code",
   "execution_count": 3,
   "id": "a0de43e1",
   "metadata": {},
   "outputs": [],
   "source": [
    "import requests \n",
    "from bs4 import BeautifulSoup"
   ]
  },
  {
   "cell_type": "code",
   "execution_count": 22,
   "id": "10166a03",
   "metadata": {},
   "outputs": [
    {
     "name": "stdout",
     "output_type": "stream",
     "text": [
      "Company Name: FlowserveCorporationpvtltd\n",
      "Required Skills: cad/cam,lathe,mechanicalengineering,cip,engineeringdepartment,cam,manufacturing,cnc,mazak,milling,supervisor\n",
      "\n",
      "Company Name: FlowserveCorporationpvtltd\n",
      "Required Skills: production,plc,technicaldrawing,pumps,commissioning,planning,productionsupervisor,mechatronics,supervision,productionplanning,productionprocess\n",
      "\n",
      "Company Name: sartoriusstedimindiapvtltd.bangalore\n",
      "Required Skills: repair,serviceengineer,fieldservice,technician,metrology,projectwork,maintenance\n",
      "\n",
      "Company Name: sartoriusstedimindiapvtltd.bangalore\n",
      "Required Skills: production,projectwork,productionplanning\n",
      "\n",
      "Company Name: ariglobalsolutions\n",
      "Required Skills: apqp,production,productdesign,mechatronics,manufacturing,action,manufacturingprocess\n",
      "\n",
      "Company Name: ariglobalsolutions\n",
      "Required Skills: production,automationengineer,mechatronics,manufacturing,manufacturingprocess,processautomation\n",
      "\n",
      "Company Name: absprofessionalservicesindiapvtltd\n",
      "Required Skills: technicalservices,industrialmanufacturing,planning,abs,safety,action,planner\n",
      "\n",
      "Company Name: QatargasOperatingCoLtd\n",
      "Required Skills: riskassessment,hazardidentification,safety,action,hazid,processsafety,hazop,implementation,industrialsafety,maintenance\n",
      "\n",
      "Company Name: AllstateIndia\n",
      "Required Skills: technicalexpert,production,action,documentation,processimprovement\n",
      "\n",
      "Company Name: AllstateIndia\n",
      "Required Skills: technicalexpert,production,action,documentation,processimprovement\n",
      "\n",
      "Company Name: circorflowtechnologiesindiaprivatelimited\n",
      "Required Skills: fixtures,controlvalves,safety,manufacturing,3dmodeling,fabrication,documentation,engineeringdepartment,powergeneration,bom,vehicles,failureanalysis,newproductdevelopment,motioncontrol,fluidmechanics,innovation,mechanicalengineering,aerospace\n",
      "\n",
      "Company Name: KochGlobalBusinessServices\n",
      "Required Skills: nx,ecn,productdesign,ecr,wiringharness,engineeringchange,harness,manufacturingprocess\n",
      "\n",
      "Company Name: KochGlobalBusinessServices\n",
      "Required Skills: nx,ecn,productdesign,ecr,wiringharness,engineeringchange,harness,manufacturingprocess\n",
      "\n",
      "Company Name: institutionalshareholderservices\n",
      "Required Skills: production,instruments,productdevelopment,processdata,environmentalpolicies,maintenance\n",
      "\n",
      "Company Name: EnventureTechnologyServices\n",
      "Required Skills: iso,implementation,lean,iso9000,maintenance\n",
      "\n",
      "Company Name: EnventureTechnologyServices\n",
      "Required Skills: 3dmodeling,mechanicalengineer,welding,fabrication,autodeskinventor,vessel\n",
      "\n",
      "Company Name: UnifraxILLC\n",
      "Required Skills: repair,spareparts,safety,manufacturing,5s,maintenancedepartment,spares,maintenanceplanning,maintenancemanager,planning,industrialmaintenance,maintenance\n",
      "\n",
      "Company Name: UnifraxILLC\n",
      "Required Skills: production,hmi,vsd,preventivemaintenance,delta,productionequipment,motors,lubrication,correctiveaction,thyristor,dcs,safety,supervision,manufacturing,mechanicalskills,instrumentation,innovation,plc,machinerepair,technician,motorcontrol,filtration,maintenance\n",
      "\n",
      "Company Name: UnifraxILLC\n",
      "Required Skills: safety,manufacturing,documentation,technician,datacollection,wonderware,testequipment,qualitytechnician\n",
      "\n",
      "Company Name: normetindiapvtltd\n",
      "Required Skills: production,productiondevelopment,leantools,leanimplementation,planning,lean,safety,shopfloormanagement,industrialengineering,linemanagement,manufacturing,action,5s\n",
      "\n",
      "Company Name: normetindiapvtltd\n",
      "Required Skills: production,safety,safetysystems,manufacturing,processdevelopment,industrialengineering,warrantyhandling,supervisor\n",
      "\n",
      "Company Name: normetindiapvtltd\n",
      "Required Skills: production,productiondevelopment,processplanning,manufacturing,problemsolving,industrialengineering,productiontechnology,productionplanning\n",
      "\n",
      "Company Name: IntelTechnologies\n",
      "Required Skills: production,manufacturing,technologydevelopment,processdevelopment,metrology,problemsolving,processcontrol,manufacturingprocess\n",
      "\n",
      "Company Name: xomeservicesindiapvtltd\n",
      "Required Skills: innovation,ideas,manufacturing,manufacturingoperations\n",
      "\n",
      "Company Name: xomeservicesindiapvtltd\n",
      "Required Skills: innovation,ideas,manufacturing,manufacturingoperations\n",
      "\n"
     ]
    }
   ],
   "source": [
    "html_text=requests.get('https://www.timesjobs.com/candidate/job-search.html?searchType=Home_Search&from=submit&asKey=OFF&txtKeywords=&cboPresFuncArea=28').text\n",
    "soup=BeautifulSoup(html_text, 'lxml')\n",
    "jobs=soup.find_all('li', class_='clearfix job-bx wht-shd-bx')\n",
    "for job in jobs:\n",
    "    company_name=job.find('h3', class_='joblist-comp-name').text.replace(' ','')\n",
    "    skills=job.find('span', class_='srp-skills').text.replace(' ','')\n",
    "    date=job.find('span', class_='sim-posted').span.text\n",
    "    print(f'Company Name: {company_name.strip()}')\n",
    "    print(f'Required Skills: {skills.strip()}')\n",
    "    print(\"\")"
   ]
  },
  {
   "cell_type": "code",
   "execution_count": null,
   "id": "c665734a",
   "metadata": {},
   "outputs": [],
   "source": []
  }
 ],
 "metadata": {
  "kernelspec": {
   "display_name": "Python 3",
   "language": "python",
   "name": "python3"
  },
  "language_info": {
   "codemirror_mode": {
    "name": "ipython",
    "version": 3
   },
   "file_extension": ".py",
   "mimetype": "text/x-python",
   "name": "python",
   "nbconvert_exporter": "python",
   "pygments_lexer": "ipython3",
   "version": "3.8.8"
  }
 },
 "nbformat": 4,
 "nbformat_minor": 5
}
