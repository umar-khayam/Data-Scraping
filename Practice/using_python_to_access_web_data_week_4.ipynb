{
 "cells": [
  {
   "cell_type": "code",
   "execution_count": 12,
   "id": "a0de43e1",
   "metadata": {},
   "outputs": [],
   "source": [
    "import requests \n",
    "from bs4 import BeautifulSoup\n",
    "import urllib.request, urllib.parse, urllib.error\n",
    "import ssl"
   ]
  },
  {
   "cell_type": "markdown",
   "id": "5b13651b",
   "metadata": {},
   "source": [
    "### Assignment 1"
   ]
  },
  {
   "cell_type": "code",
   "execution_count": 30,
   "id": "c665734a",
   "metadata": {},
   "outputs": [
    {
     "name": "stdout",
     "output_type": "stream",
     "text": [
      "2504\n"
     ]
    }
   ],
   "source": [
    "html = urllib.request.urlopen('https://py4e-data.dr-chuck.net/comments_1500075.html').read()\n",
    "soup = BeautifulSoup(html, 'html.parser')\n",
    "tags = soup('td')\n",
    "sum=0\n",
    "for tag in tags:\n",
    "    span=tag.find('span')\n",
    "    if span is not None:\n",
    "        sum+=int(span.text)\n",
    "print(sum)"
   ]
  },
  {
   "cell_type": "markdown",
   "id": "eda3a931",
   "metadata": {},
   "source": [
    "### Assignment 2"
   ]
  },
  {
   "cell_type": "code",
   "execution_count": 91,
   "id": "b1941f68",
   "metadata": {},
   "outputs": [
    {
     "name": "stdout",
     "output_type": "stream",
     "text": [
      "Rahma\n"
     ]
    }
   ],
   "source": [
    "import urllib\n",
    "from bs4 import BeautifulSoup\n",
    "\n",
    "count = 7\n",
    "position = 17\n",
    "html = urllib.request.urlopen('https://py4e-data.dr-chuck.net/known_by_Aiyanna.html').read()\n",
    "soup = BeautifulSoup(html,\"html.parser\")\n",
    "href = soup('a')\n",
    "#print href\n",
    "lis=[]\n",
    "for i in range(count):\n",
    "    link = href[position].get('href', None)\n",
    "    html = urllib.request.urlopen(link).read()\n",
    "    soup = BeautifulSoup(html,\"html.parser\")\n",
    "    name=soup('title')\n",
    "    lis.append(name[0].text.split(' ')[2])\n",
    "    href = soup('a')\n",
    "print(lis[-1])"
   ]
  },
  {
   "cell_type": "code",
   "execution_count": 88,
   "id": "e8beb206",
   "metadata": {},
   "outputs": [
    {
     "name": "stdout",
     "output_type": "stream",
     "text": [
      "Breeanna\n",
      "Jeremy\n",
      "Kenzi\n",
      "Maya\n",
      "Naima\n",
      "Caidie\n",
      "Rahma\n",
      "Rihanna\n"
     ]
    }
   ],
   "source": [
    "import urllib\n",
    "from bs4 import BeautifulSoup\n",
    "\n",
    "#url = 'http://python-data.dr-chuck.net/known_by_Conar.html'\n",
    "url = 'https://py4e-data.dr-chuck.net/known_by_Aiyanna.html'\n",
    "count = 8\n",
    "position = 18-1\n",
    "html = urllib.request.urlopen(url).read()\n",
    "\n",
    "soup = BeautifulSoup(html,\"html.parser\")\n",
    "href = soup('a')\n",
    "#print href\n",
    "\n",
    "for i in range(count):\n",
    "    link = href[position].get('href', None)\n",
    "    print(href[position].contents[0])\n",
    "    html = urllib.request.urlopen(link).read()\n",
    "    soup = BeautifulSoup(html,\"html.parser\")\n",
    "    href = soup('a')"
   ]
  },
  {
   "cell_type": "code",
   "execution_count": null,
   "id": "0c0fd18c",
   "metadata": {},
   "outputs": [],
   "source": []
  }
 ],
 "metadata": {
  "kernelspec": {
   "display_name": "Python 3 (ipykernel)",
   "language": "python",
   "name": "python3"
  },
  "language_info": {
   "codemirror_mode": {
    "name": "ipython",
    "version": 3
   },
   "file_extension": ".py",
   "mimetype": "text/x-python",
   "name": "python",
   "nbconvert_exporter": "python",
   "pygments_lexer": "ipython3",
   "version": "3.10.9"
  }
 },
 "nbformat": 4,
 "nbformat_minor": 5
}
